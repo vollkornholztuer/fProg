{
 "cells": [
  {
   "cell_type": "markdown",
   "metadata": {},
   "source": [
    "# Kapitel 1: Python Operatoren und Datentypen"
   ]
  },
  {
   "cell_type": "markdown",
   "metadata": {},
   "source": [
    "## iPython"
   ]
  },
  {
   "cell_type": "markdown",
   "metadata": {},
   "source": [
    "* Erweiterte interaktive Shell\n",
    "* Zusätzliche Shell-Syntax\n",
    "    * Zugriff auf Bash-Befehle\n",
    "    * Ausführen von Python-Skripten\n",
    "    * Übersichtlichere Ausgabe\n",
    "    * Logging\n",
    "    * Suchfunktionen\n",
    "* Tab-Vervollständigung\n",
    "* Liste bisheriger Befehle\n",
    "* Automatische Einrückung\n",
    "* Default-Konsole in Spyder"
   ]
  },
  {
   "cell_type": "markdown",
   "metadata": {},
   "source": [
    "## Primitive Datentypen"
   ]
  },
  {
   "cell_type": "markdown",
   "metadata": {},
   "source": [
    "* Boolesche Werte\n",
    "    * True und False (auf 1 und 0 abgebildet)\n",
    "* Numerische Typen\n",
    "    * `int`: Ganzzahlige Werte (Größe nur durch Speicher beschränkt), auch als Hex möglich\n",
    "    * `float`: doppelte Genauigkeit (ähnlich double in C)\n",
    "    * `complex`: Komplexe Zahlen mit Imaginärteil, z.B. z = 1.2 + 3.4j. Mit z.real und z.imag kann man auf die Anteile zugreifen, z.conjugate() berechnet die konjugierte Zahl\n",
    "* Alles in Python ist ein Objekt!\n",
    "    * Daher bei allen Datentypen: Zugriff auf Attribute und Methoden\n",
    "* Dynamische Typisierung: Typ von Variablen durch Zuweisung bestimmt\n",
    "* Automatische Konvertierung wo möglich und nötig"
   ]
  },
  {
   "cell_type": "code",
   "execution_count": 17,
   "metadata": {},
   "outputs": [
    {
     "name": "stdout",
     "output_type": "stream",
     "text": [
      "False\n"
     ]
    },
    {
     "data": {
      "text/plain": [
       "2"
      ]
     },
     "execution_count": 17,
     "metadata": {},
     "output_type": "execute_result"
    }
   ],
   "source": [
    "x , y = False, True\n",
    "print(x and y)\n",
    "(not x)+y"
   ]
  },
  {
   "cell_type": "code",
   "execution_count": 19,
   "metadata": {},
   "outputs": [
    {
     "name": "stdout",
     "output_type": "stream",
     "text": [
      "0.5714285714285714\n",
      "(2573485501354569, 4503599627370496)\n",
      "2573485501354569\n"
     ]
    },
    {
     "data": {
      "text/plain": [
       "'0x1.2492492492492p-1'"
      ]
     },
     "execution_count": 19,
     "metadata": {},
     "output_type": "execute_result"
    }
   ],
   "source": [
    "print(4/7)\n",
    "w = 4/7\n",
    "print(w.as_integer_ratio())\n",
    "v = w.as_integer_ratio()\n",
    "print(v[0])\n",
    "w.hex()"
   ]
  },
  {
   "cell_type": "code",
   "execution_count": 20,
   "metadata": {},
   "outputs": [
    {
     "name": "stdout",
     "output_type": "stream",
     "text": [
      "2.2857142857142856\n",
      "2\n",
      "2.0\n",
      "9\n"
     ]
    }
   ],
   "source": [
    "print(16/7)\n",
    "print(16//7)\n",
    "print(16.//7)\n",
    "print(int('0b1001', base=2))"
   ]
  },
  {
   "cell_type": "markdown",
   "metadata": {},
   "source": [
    "## Operatoren"
   ]
  },
  {
   "cell_type": "markdown",
   "metadata": {},
   "source": [
    "* `+` Addition, `-` Subtraktion, `*` Mulitplikation, `/` Division\n",
    "* `//` Division, die zum nächsten ganzzahligen Wert abrundet\n",
    "* `**` Potenz\n",
    "* `%` Modulo\n",
    "* Kombinationen: +=, -=, *=, /=, //=\n",
    "* Relationale Operatoren: <, <=, ==, !=, >, >=\n",
    "* Bitoperatoren: >>, <<, & (bitweises AND), | (bitweises OR), ^ (bitweises XOR), ~ (Komplement)"
   ]
  },
  {
   "cell_type": "code",
   "execution_count": 21,
   "metadata": {},
   "outputs": [
    {
     "name": "stdout",
     "output_type": "stream",
     "text": [
      "60\n",
      "150\n"
     ]
    }
   ],
   "source": [
    "a = 10 * 5 + 10\n",
    "print(a)\n",
    "\n",
    "a = 10\n",
    "a *= 5 + 10      \n",
    "print(a)"
   ]
  },
  {
   "cell_type": "code",
   "execution_count": 22,
   "metadata": {},
   "outputs": [
    {
     "name": "stdout",
     "output_type": "stream",
     "text": [
      "True\n",
      "18\n"
     ]
    }
   ],
   "source": [
    "b = 0\n",
    "c = 0\n",
    "b = b == c\n",
    "print(b)\n",
    "a >>= b + 2\n",
    "print(a)"
   ]
  },
  {
   "cell_type": "code",
   "execution_count": 23,
   "metadata": {},
   "outputs": [
    {
     "name": "stdout",
     "output_type": "stream",
     "text": [
      "a = 9408  b = 98\n"
     ]
    }
   ],
   "source": [
    "a = 3; b = 2\n",
    "\n",
    "a = a << (a + b)\n",
    "b += a\n",
    "a *= b\n",
    "print(\"a =\", a, \" b =\", b)"
   ]
  },
  {
   "cell_type": "markdown",
   "metadata": {},
   "source": [
    "## Sequentielle Datentypen"
   ]
  },
  {
   "cell_type": "markdown",
   "metadata": {},
   "source": [
    "Zeichenketten, Tupel und Listen\n",
    "* Zeichenketten: Folgen von Zeichen, nicht änderbar, einfache oder doppelte Anführungszeichen\n",
    "* Tupel: Folgen von Objekten, nicht änderbar\n",
    "* Listen: Folgen von Objekten, änderbar\n"
   ]
  },
  {
   "cell_type": "code",
   "execution_count": 1,
   "metadata": {},
   "outputs": [
    {
     "data": {
      "text/plain": [
       "('abcdefäöüß', (1, 'a', 0.42), 4711)"
      ]
     },
     "execution_count": 1,
     "metadata": {},
     "output_type": "execute_result"
    }
   ],
   "source": [
    "EineZeichenkette = \"abcdefäöüß\"\n",
    "EinTupel = (1, 'a', 0.42)\n",
    "EineListe = (EineZeichenkette, EinTupel, 4711)\n",
    "EineListe"
   ]
  },
  {
   "cell_type": "code",
   "execution_count": 26,
   "metadata": {},
   "outputs": [
    {
     "name": "stdout",
     "output_type": "stream",
     "text": [
      "abcdefgäöüß\n",
      "(1, 'a', 0.765)\n",
      "['abcdefgäöüß', (1, 'a', 0.765), 42]\n",
      "(1, 'a', 0.765)\n"
     ]
    }
   ],
   "source": [
    "z = \"abcdefgäöüß\"\n",
    "print(z)\n",
    "t = (1, 'a', 0.765)\n",
    "print(t)\n",
    "l = [z, t, 42]\n",
    "print(l)\n",
    "print(l[1])"
   ]
  },
  {
   "cell_type": "markdown",
   "metadata": {},
   "source": [
    "Kopien sind flach, werden also mit dem Original verändert!"
   ]
  },
  {
   "cell_type": "code",
   "execution_count": 27,
   "metadata": {},
   "outputs": [
    {
     "name": "stdout",
     "output_type": "stream",
     "text": [
      "[1, 2, 3]\n",
      "li =  [1, 2, 'a'] , cli = [1, 2, 'a']\n"
     ]
    }
   ],
   "source": [
    "li = [1, 2, 3]\n",
    "cli = li\n",
    "print(cli)\n",
    "li[2] = 'a'\n",
    "print(\"li = \", li, \", cli =\", cli)"
   ]
  },
  {
   "cell_type": "markdown",
   "metadata": {},
   "source": [
    "## Bereiche"
   ]
  },
  {
   "cell_type": "markdown",
   "metadata": {},
   "source": [
    "`range(i, j)` liefert ein iterierbares Objekt mit den Zahlen von i bis j-1\n",
    "* range(n) entspricht range(0,n)\n",
    "* Auch Schrittweite ist möglich"
   ]
  },
  {
   "cell_type": "code",
   "execution_count": 28,
   "metadata": {},
   "outputs": [
    {
     "name": "stdout",
     "output_type": "stream",
     "text": [
      "range(3, 14)\n",
      "3\n",
      "4\n",
      "5\n",
      "6\n",
      "7\n",
      "8\n",
      "9\n",
      "10\n",
      "11\n",
      "12\n",
      "13\n"
     ]
    }
   ],
   "source": [
    "w = range(3,14)\n",
    "print(w)\n",
    "for i in w: print(i)"
   ]
  },
  {
   "cell_type": "code",
   "execution_count": 3,
   "metadata": {},
   "outputs": [
    {
     "name": "stdout",
     "output_type": "stream",
     "text": [
      "[0, 1, 2, 3, 4, 5, 6, 7, 8, 9]\n"
     ]
    },
    {
     "data": {
      "text/plain": [
       "(3, [2, 3], 8, [0, 1, 2], [2, 4, 6])"
      ]
     },
     "execution_count": 3,
     "metadata": {},
     "output_type": "execute_result"
    }
   ],
   "source": [
    "li =[j for j in range(10)]\n",
    "print(li)\n",
    "li[3], li[2:4], li[-2], li[:3], li[2:7:2]"
   ]
  },
  {
   "cell_type": "code",
   "execution_count": 30,
   "metadata": {},
   "outputs": [
    {
     "name": "stdout",
     "output_type": "stream",
     "text": [
      "[0, 1, 2, 3, 4, 5, 6, 7, 8, 9, 10, 11]\n",
      "Summe:  66\n",
      "[3, 4, 5, 6, 7]\n",
      "10\n",
      "[0, 1, 2]\n",
      "[2, 4, 6]\n",
      "False\n",
      "[0, 1, 3, 5, 7, 8, 9, 10, 11]\n"
     ]
    }
   ],
   "source": [
    "li = [j for j in range(12)]\n",
    "print(li)\n",
    "print(\"Summe: \", sum(li))\n",
    "print(li[3:8])\n",
    "print(li[-2])\n",
    "print(li[:3])\n",
    "print(li[2:7:2])\n",
    "print(all([x>3 for x in li]))\n",
    "del li[2:7:2]\n",
    "print(li)"
   ]
  },
  {
   "cell_type": "markdown",
   "metadata": {},
   "source": [
    "Negativer Index zählt von hinten, len(s) ist die Länge der Sequenz"
   ]
  },
  {
   "cell_type": "markdown",
   "metadata": {},
   "source": [
    "## Operationen auf Listen"
   ]
  },
  {
   "cell_type": "code",
   "execution_count": 7,
   "metadata": {},
   "outputs": [
    {
     "name": "stdout",
     "output_type": "stream",
     "text": [
      "[0, 1, 1, 2, 3, 4, 5, 6, 7, 8, 9, 10, 11, 1]\n",
      "[0, 1, 1, 2, 3, 4, 5, 6, 7, 8, 9, 10, 11, 1, 10, 11]\n",
      "3\n",
      "1\n",
      "[0, 1, 1, 1, 2, 3, 4, 5, 6, 7, 8, 9, 10, 11, 1, 10, 11]\n",
      "1\n",
      "[0, 1, 2, 3, 4, 5, 6, 7, 8, 9, 10, 11, 1, 10, 11]\n",
      "[11, 10, 1, 11, 10, 9, 8, 7, 6, 5, 4, 3, 2, 1, 0]\n",
      "[0, 1, 1, 2, 3, 4, 5, 6, 7, 8, 9, 10, 10, 11, 11]\n"
     ]
    }
   ],
   "source": [
    "x = 1; i = 2\n",
    "l = [10, 11]\n",
    "li.append(x)    # fügt das Element x an\n",
    "print(li)\n",
    "li.extend(l)    # hängt Liste l an Liste li an\n",
    "print(li)\n",
    "c = li.count(x) # Zählt die Häufigkeit von x in li\n",
    "print(c)\n",
    "c = li.index(x) # Gibt den kleinsten Index i mit li[i] == x\n",
    "print(c)\n",
    "li.insert(i, x) # Fügt x in li an der Stelle i ein\n",
    "print(li)\n",
    "c = li.pop(i)   # Gibt das Element li[i] zurück und entfernt es\n",
    "print(c)\n",
    "li.remove(x)    # Entfernt das erste Vorkommen von x\n",
    "print(li)\n",
    "li.reverse()    # Dreht die Liste um\n",
    "print(li)\n",
    "li.sort()       # Sortiert die Liste aufsteigend \n",
    "print(li)"
   ]
  },
  {
   "cell_type": "markdown",
   "metadata": {},
   "source": [
    "## Ausgewählte String-Methoden"
   ]
  },
  {
   "cell_type": "code",
   "execution_count": 9,
   "metadata": {},
   "outputs": [
    {
     "name": "stdout",
     "output_type": "stream",
     "text": [
      "1: True\n",
      "2: True\n",
      "3: True\n",
      "4: 5\n",
      "5: 5\n",
      "6: False\n",
      "7: abra cada bra\n",
      "8: abra cada bra\n",
      "9: ['abra cada bra']\n",
      "10: 5\n",
      "11: ['abra cada bra']\n"
     ]
    }
   ],
   "source": [
    "s = \"abra cada bra\"\n",
    "w = s.islower()           # ist alles klein geschrieben\n",
    "print(\"1:\", w)\n",
    "w = s.startswith(\"abra\")  # überprüft den Anfang\n",
    "print(\"2:\", w)\n",
    "w = s.endswith(\"bra\")     # analog\n",
    "print(\"3:\", w)\n",
    "c = s.find(\"cada\")        # findet das erste Vorkommen von „cada“\n",
    "print(\"4:\", c)\n",
    "c = s.rfind(\"cada\")       # findet das letzte Vorkommen\n",
    "print(\"5:\", c)\n",
    "w = s.isalnum()           # testet, ob nur Zeichen drin sind\n",
    "print(\"6:\", w)\n",
    "s = s.strip()             # Entfernt Leerzeichen vorn/hinten\n",
    "print(\"7:\", s)\n",
    "s.lower()                 # wandelt in Kleinbuchstaben\n",
    "print(\"8:\", s)\n",
    "z = '#'\n",
    "t = s.split(z)            # Zerlegt in Teilzeichenketten mit z als Trenner\n",
    "print(\"9:\", t)\n",
    "c = s.count(\"a\")          # zählt die Vorkommen von „a“ in s\n",
    "print(\"10:\", c)\n",
    "t = s.splitlines()        # zerlegt s in eine Liste von Zeilen  \n",
    "print(\"11:\", t)"
   ]
  },
  {
   "cell_type": "markdown",
   "metadata": {},
   "source": [
    "## Formatierung von Strings"
   ]
  },
  {
   "cell_type": "markdown",
   "metadata": {},
   "source": [
    "Formatiert wird der Inhalt des Formatstrings gemäß der Angaben in der Zeichenkette"
   ]
  },
  {
   "cell_type": "code",
   "execution_count": 10,
   "metadata": {},
   "outputs": [
    {
     "data": {
      "text/plain": [
       "'Winter-Semester ab 10/2020'"
      ]
     },
     "execution_count": 10,
     "metadata": {},
     "output_type": "execute_result"
    }
   ],
   "source": [
    "s = \"Winter{}Semester{}2020\"\n",
    "s.format(\"-\", \" ab 10/\")"
   ]
  },
  {
   "cell_type": "markdown",
   "metadata": {},
   "source": [
    "Platzhalter können auch nummeriert sein:"
   ]
  },
  {
   "cell_type": "code",
   "execution_count": 11,
   "metadata": {},
   "outputs": [
    {
     "data": {
      "text/plain": [
       "'A fool with a tool is still a fool.'"
      ]
     },
     "execution_count": 11,
     "metadata": {},
     "output_type": "execute_result"
    }
   ],
   "source": [
    "t = \"A {0} with a {1} is still a {0}.\"\n",
    "t.format(\"fool\",\"tool\")"
   ]
  },
  {
   "cell_type": "markdown",
   "metadata": {},
   "source": [
    "Damit sind auch Formatierungen für Zahlen möglich\n",
    "* „%d“ für Dezimalewerte, „%f“ für Gleitkomma, „%e“ in Exponentialdarstellung, „%s“ für Zeichenketten, „%c“ ein einzelnes Zeichen, „%o“ oktal, „%x“ hexadezimal\n",
    "* Auch Längenangaben und Genauigkeiten sind möglich"
   ]
  },
  {
   "cell_type": "code",
   "execution_count": 12,
   "metadata": {},
   "outputs": [
    {
     "data": {
      "text/plain": [
       "'1234, 1234.000000 oder 1.234000E+03'"
      ]
     },
     "execution_count": 12,
     "metadata": {},
     "output_type": "execute_result"
    }
   ],
   "source": [
    "z = \"{0:d}, {0:f} oder {0:E}\"\n",
    "z.format(1234)"
   ]
  },
  {
   "cell_type": "markdown",
   "metadata": {},
   "source": [
    "## Tupel und Listen"
   ]
  },
  {
   "cell_type": "markdown",
   "metadata": {},
   "source": [
    "* Folgen beliebiger Objekte\n",
    "* Tupel sind nicht änderbar\n",
    "    * Können aber änderbare Elemente enthalten, z.B. Mengen oder Listen\n",
    "* Zugriff und Bearbeitung wie bei Zeichenketten\n",
    "* Tupel nutzt runde Klammern, Listen eckige\n",
    "* Tupel werden intern häufig verwendet!"
   ]
  },
  {
   "cell_type": "code",
   "execution_count": 15,
   "metadata": {},
   "outputs": [
    {
     "name": "stdout",
     "output_type": "stream",
     "text": [
      "('hippo', 13)\n",
      "13\n"
     ]
    },
    {
     "data": {
      "text/plain": [
       "('h', 'i', 'p', 'p', 'o')"
      ]
     },
     "execution_count": 15,
     "metadata": {},
     "output_type": "execute_result"
    }
   ],
   "source": [
    "x = 'hippo', 13\n",
    "print(x) \n",
    "a, b = x\n",
    "print(b)\n",
    "tuple('hippo')"
   ]
  },
  {
   "cell_type": "markdown",
   "metadata": {},
   "source": [
    "## Mengen"
   ]
  },
  {
   "cell_type": "markdown",
   "metadata": {},
   "source": [
    "* Ungeordnete Sammlung eindeutiger Objekte\n",
    "* Veränderbar (set) oder unveränderbar (frozenset)\n",
    "* Übliche Operationen als Objektmethoden möglich\n",
    "    * Mengenminus m.difference(n), Schnittmenge m.intersection(n), Vereinigungsmenge m.union(n), Teilmenge m.issubset(n), Diskunktheit m.isdisjoint(n) \n",
    "    * Auch nur mit Operatoren: Differenz m – n, Vereinigung m | n, Schnitt m & n\n",
    "* Weitere Methoden für Einfügen, Löschen und Verändern "
   ]
  },
  {
   "cell_type": "markdown",
   "metadata": {},
   "source": [
    "## Lexikon (Dictionary)"
   ]
  },
  {
   "cell_type": "markdown",
   "metadata": {},
   "source": [
    "* Schlüssel-Wert-Paare\n",
    "    * Schlüssel unveränderlich, können primitive Typen, Zeichenketten, Tupel oder eingefrorene Mengen sein\n",
    "    * Werte können von beliebigem Typ sein\n",
    "    * In geschweiften Klammern notiert, Schlüssel und Wert mit Doppelpunkt getrennt\n",
    "* Verschiedene Methoden verfügbar (z.B. Zugriff auf Wert dict[k], Defaultwert für nicht enthaltene Schlüssel, Rückgabe aller Schlüssel oder Werte getrennt) "
   ]
  },
  {
   "cell_type": "code",
   "execution_count": 31,
   "metadata": {},
   "outputs": [
    {
     "name": "stdout",
     "output_type": "stream",
     "text": [
      "{'abra': 'cadabra'}\n",
      "{'abra': 'cadabra', 17: 42}\n"
     ]
    }
   ],
   "source": [
    "Lex = {}\n",
    "Lex['abra'] = 'cadabra'\n",
    "print(Lex)\n",
    "Lex[17] = 42\n",
    "print(Lex)"
   ]
  },
  {
   "cell_type": "code",
   "execution_count": 32,
   "metadata": {},
   "outputs": [
    {
     "name": "stdout",
     "output_type": "stream",
     "text": [
      "{0: 0, 1: 1, 2: 1, 3: 2, 4: 3, 5: 5, 6: 8, 7: 13, 8: 21, 9: 34, 10: 55, 11: 89, 12: 144, 13: 233, 14: 377, 15: 610}\n"
     ]
    },
    {
     "data": {
      "text/plain": [
       "610"
      ]
     },
     "execution_count": 32,
     "metadata": {},
     "output_type": "execute_result"
    }
   ],
   "source": [
    "def DictFib(n):\n",
    "    fib = {0:0, 1:1}\n",
    "    for j in range(2, n+1):\n",
    "        fib[j] = fib[j-1] + fib[j-2]\n",
    "        \n",
    "    print(fib)\n",
    "    return fib[n]\n",
    "\n",
    "def FibStat(k):\n",
    "    dicStat = {}.fromkeys(range(k+1), 0)\n",
    "    \n",
    "    def Fib(n): \n",
    "        dicStat[n] = dicStat[n] + 1\n",
    "        if n <= 0 : return 0\n",
    "        elif n == 1 : return 1\n",
    "        else: return Fib(n-1) + Fib(n-2)\n",
    "        \n",
    "    l = Fib(k)\n",
    "    return dicStat\n",
    "\n",
    "DictFib(15)"
   ]
  },
  {
   "cell_type": "code",
   "execution_count": 33,
   "metadata": {},
   "outputs": [
    {
     "name": "stdout",
     "output_type": "stream",
     "text": [
      "[(0, 2178309), (1, 3524578), (2, 2178309), (3, 1346269)]\n",
      "[(4, 832040), (5, 514229), (6, 317811), (7, 196418)]\n",
      "[(8, 121393), (9, 75025), (10, 46368), (11, 28657)]\n",
      "[(12, 17711), (13, 10946), (14, 6765), (15, 4181)]\n",
      "[(16, 2584), (17, 1597), (18, 987), (19, 610)]\n",
      "[(20, 377), (21, 233), (22, 144), (23, 89)]\n",
      "[(24, 55), (25, 34), (26, 21), (27, 13)]\n",
      "[(28, 8), (29, 5), (30, 3), (31, 2)]\n",
      "[(32, 1), (33, 1)]\n"
     ]
    }
   ],
   "source": [
    "ww = FibStat(33)\n",
    "for j in range(0, 33, 4) :\n",
    "    print([(i, ww[i]) for i in range(j, j+4) if i in ww.keys()])"
   ]
  },
  {
   "cell_type": "code",
   "execution_count": null,
   "metadata": {},
   "outputs": [],
   "source": []
  }
 ],
 "metadata": {
  "celltoolbar": "Raw Cell Format",
  "kernelspec": {
   "display_name": "Python 3",
   "language": "python",
   "name": "python3"
  },
  "language_info": {
   "codemirror_mode": {
    "name": "ipython",
    "version": 3
   },
   "file_extension": ".py",
   "mimetype": "text/x-python",
   "name": "python",
   "nbconvert_exporter": "python",
   "pygments_lexer": "ipython3",
   "version": "3.8.3"
  }
 },
 "nbformat": 4,
 "nbformat_minor": 4
}
