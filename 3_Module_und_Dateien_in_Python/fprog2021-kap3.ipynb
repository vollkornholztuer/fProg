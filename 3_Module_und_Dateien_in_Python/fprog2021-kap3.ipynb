{
 "cells": [
  {
   "cell_type": "markdown",
   "metadata": {},
   "source": [
    "# Kapitel 3: Python - Module und Dateien"
   ]
  },
  {
   "cell_type": "markdown",
   "metadata": {},
   "source": [
    "## Module"
   ]
  },
  {
   "cell_type": "markdown",
   "metadata": {},
   "source": [
    "* Fassen Funktionen (und ggf. Klassen) in einer separaten .py-Datei zusammen\n",
    "* Lassen sich importieren (eigene und Bibliothek)"
   ]
  },
  {
   "cell_type": "markdown",
   "metadata": {},
   "source": [
    "## Arten des Imports"
   ]
  },
  {
   "cell_type": "markdown",
   "metadata": {},
   "source": [
    "Möglichkeiten für Import von Modul M (Datei M.py)\n",
    "* `import M`: Alle Namen aus M in eigenem Namensraum verfügbar, muss mit M.foo() qualifiziert werden\n",
    "* `import M as Q`: Modul M wird unter dem Namen Q verfügbar\n",
    "* `from M import *`: Alle Namen aus M lokal verfügbar und ohne Verweis auf M zu benutzen\n",
    "* `from M import x`: Nur die angegebenen Namen x (und ggf. weitere) sind lokal verfügbar"
   ]
  },
  {
   "cell_type": "markdown",
   "metadata": {},
   "source": [
    "## Mehr über Module"
   ]
  },
  {
   "cell_type": "markdown",
   "metadata": {},
   "source": [
    "* Auflistung der Inhalte: `dir(bib)`\n",
    "* Hilfe abfragen, für Module und einzelne Funktionen\n",
    "    * `import(meinebib)`\n",
    "    * `help(meinebib)`\n",
    "    * `help(meinebib.printKonst)`\n",
    "* Bestimmung, ob ein Skript gerade ausgeführt wird oder als Modul genutzt wird:"
   ]
  },
  {
   "cell_type": "code",
   "execution_count": 4,
   "metadata": {},
   "outputs": [
    {
     "name": "stdout",
     "output_type": "stream",
     "text": [
      "Wird ausgeführt\n"
     ]
    }
   ],
   "source": [
    "if __name__ == '__main__':\n",
    "    print (\"Wird ausgeführt\")\n",
    "else:\n",
    "    print (\"als Modul importiert\")"
   ]
  },
  {
   "cell_type": "markdown",
   "metadata": {},
   "source": [
    "Python sucht im Suchpfad und im aktuellen Verzeichnis. Der Suchpfad kann abgefragt und erweitert werden."
   ]
  },
  {
   "cell_type": "code",
   "execution_count": 5,
   "metadata": {},
   "outputs": [
    {
     "name": "stdout",
     "output_type": "stream",
     "text": [
      "['/Users/wieland/Documents/FH/Lehre/Material', '/Users/wieland/opt/anaconda3/lib/python38.zip', '/Users/wieland/opt/anaconda3/lib/python3.8', '/Users/wieland/opt/anaconda3/lib/python3.8/lib-dynload', '', '/Users/wieland/opt/anaconda3/lib/python3.8/site-packages', '/Users/wieland/opt/anaconda3/lib/python3.8/site-packages/aeosa', '/Users/wieland/opt/anaconda3/lib/python3.8/site-packages/IPython/extensions', '/Users/wieland/.ipython']\n"
     ]
    }
   ],
   "source": [
    "import sys\n",
    "print(sys.path)\n",
    "sys.path.append(\"folder/to/module\")"
   ]
  },
  {
   "cell_type": "markdown",
   "metadata": {},
   "source": [
    "## Dateien"
   ]
  },
  {
   "cell_type": "markdown",
   "metadata": {},
   "source": [
    "Öffnen mit `open`. Für Binärdateien mit einem \"b\" nach dem Qualifizierer, also bspw. \"rb\" "
   ]
  },
  {
   "cell_type": "code",
   "execution_count": 6,
   "metadata": {},
   "outputs": [
    {
     "ename": "FileNotFoundError",
     "evalue": "[Errno 2] No such file or directory: 'testfile.txt'",
     "output_type": "error",
     "traceback": [
      "\u001b[0;31m---------------------------------------------------------------------------\u001b[0m",
      "\u001b[0;31mFileNotFoundError\u001b[0m                         Traceback (most recent call last)",
      "\u001b[0;32m<ipython-input-6-10fae57badce>\u001b[0m in \u001b[0;36m<module>\u001b[0;34m\u001b[0m\n\u001b[0;32m----> 1\u001b[0;31m \u001b[0mdatei\u001b[0m \u001b[0;34m=\u001b[0m \u001b[0mopen\u001b[0m \u001b[0;34m(\u001b[0m\u001b[0;34m\"testfile.txt\"\u001b[0m\u001b[0;34m)\u001b[0m      \u001b[0;31m# read\u001b[0m\u001b[0;34m\u001b[0m\u001b[0;34m\u001b[0m\u001b[0m\n\u001b[0m",
      "\u001b[0;31mFileNotFoundError\u001b[0m: [Errno 2] No such file or directory: 'testfile.txt'"
     ]
    }
   ],
   "source": [
    "datei = open (\"testfile.txt\", \"r\")      # read"
   ]
  },
  {
   "cell_type": "markdown",
   "metadata": {},
   "source": [
    "Lesen"
   ]
  },
  {
   "cell_type": "code",
   "execution_count": null,
   "metadata": {},
   "outputs": [],
   "source": [
    "datei.read ()     # komplett einlesen\n",
    "datei.read (n)    # n Byte einlesen\n",
    "datei.readline()  # eine Zeile lesen\n",
    "datei.readlines() # Liste von Zeilen"
   ]
  },
  {
   "cell_type": "markdown",
   "metadata": {},
   "source": [
    "## Weitere Dateioperationen"
   ]
  },
  {
   "cell_type": "markdown",
   "metadata": {},
   "source": [
    "Schreiben"
   ]
  },
  {
   "cell_type": "code",
   "execution_count": 7,
   "metadata": {},
   "outputs": [],
   "source": [
    "datei = open(\"testfile.txt\", \"w\")\n",
    "datei.write(\"Neuer Text \\n\")\n",
    "datei.writelines([\"1. Zeile\\n\", \"2. Zeile\\n\"])"
   ]
  },
  {
   "cell_type": "markdown",
   "metadata": {},
   "source": [
    "Aktuelle Position"
   ]
  },
  {
   "cell_type": "code",
   "execution_count": 8,
   "metadata": {},
   "outputs": [
    {
     "name": "stdout",
     "output_type": "stream",
     "text": [
      "30\n"
     ]
    }
   ],
   "source": [
    "pos = datei.tell()\n",
    "print(pos)"
   ]
  },
  {
   "cell_type": "markdown",
   "metadata": {},
   "source": [
    "Zu einer bestimmten Position gehen"
   ]
  },
  {
   "cell_type": "code",
   "execution_count": 9,
   "metadata": {},
   "outputs": [
    {
     "name": "stdout",
     "output_type": "stream",
     "text": [
      "0\n"
     ]
    }
   ],
   "source": [
    "datei.seek(0)\n",
    "print(datei.tell())"
   ]
  },
  {
   "cell_type": "markdown",
   "metadata": {},
   "source": [
    "Ausgabepuffer leeren"
   ]
  },
  {
   "cell_type": "code",
   "execution_count": 10,
   "metadata": {},
   "outputs": [],
   "source": [
    "datei.flush()"
   ]
  },
  {
   "cell_type": "markdown",
   "metadata": {},
   "source": [
    "Datei schließen"
   ]
  },
  {
   "cell_type": "code",
   "execution_count": 11,
   "metadata": {},
   "outputs": [],
   "source": [
    "datei.close()"
   ]
  },
  {
   "cell_type": "markdown",
   "metadata": {},
   "source": [
    "## Durch Dateien iterieren"
   ]
  },
  {
   "cell_type": "markdown",
   "metadata": {},
   "source": [
    "Dateien sind sequentielle Objekte wie Listen und Tupel. Daher kann auch durch sie iteriert werden."
   ]
  },
  {
   "cell_type": "code",
   "execution_count": 12,
   "metadata": {},
   "outputs": [
    {
     "name": "stdout",
     "output_type": "stream",
     "text": [
      "1\n",
      "2\n",
      "3\n"
     ]
    }
   ],
   "source": [
    "datei = open(\"testfile.txt\", \"r\")\n",
    "zahl = 0\n",
    "for _ in datei:\n",
    "    zahl += 1\n",
    "    print(zahl)\n",
    "datei.close()"
   ]
  },
  {
   "cell_type": "markdown",
   "metadata": {},
   "source": [
    "Ganze Lexika können mit `pickle` gespeichert werden"
   ]
  },
  {
   "cell_type": "code",
   "execution_count": 13,
   "metadata": {},
   "outputs": [
    {
     "name": "stdout",
     "output_type": "stream",
     "text": [
      "{1: 'q', 2: [1, 2, 3], 'ww': 'Eine Zeichenkette'}\n"
     ]
    }
   ],
   "source": [
    "import pickle\n",
    "\n",
    "dd = {1: 'q', 2: [1, 2, 3], 'ww': 'Eine Zeichenkette'}\n",
    "datei = open('meinedatei.bin', 'wb')\n",
    "pickle.dump(dd, datei)\n",
    "datei.close()\n",
    "\n",
    "dat = open('meinedatei.bin', 'rb')\n",
    "lex = pickle.load(dat)\n",
    "print(lex)\n",
    "dat.close()"
   ]
  },
  {
   "cell_type": "markdown",
   "metadata": {},
   "source": [
    "## Erstellung von Diagrammdateien"
   ]
  },
  {
   "cell_type": "code",
   "execution_count": 21,
   "metadata": {},
   "outputs": [
    {
     "name": "stdout",
     "output_type": "stream",
     "text": [
      "Werte: [(2010, 1.31), (2011, 1.98), (2012, 2.04), (2013, 1.43), (2014, 0.19), (2015, 0.17), (2016, 1.5), (2017, 1.38), (2018, 1.56), (2019, 1.54)]\n",
      "\n",
      "\n"
     ]
    }
   ],
   "source": [
    "import pygal\n",
    "\n",
    "xVal = [j for j in range(2010,2020)]\n",
    "yVal = [1.31, 1.98, 2.04, 1.43, 0.19, 0.17, 1.50, 1.38, 1.56, 1.54]\n",
    "werte = zip(xVal, yVal)\n",
    "print(\"Werte:\", list(werte))\n",
    "print('\\n')\n",
    "\n",
    "# Erzeuge Liniendiagramm\n",
    "linie = pygal.Line()\n",
    "linie.title = \"Inflation 2010 - 2019\"\n",
    "linie.x_labels = xVal\n",
    "linie.add('2010-2019', yVal)\n",
    "linie.render_to_file('infl_linie.svg')\n",
    "\n",
    "# Erzeuge Balkendiagramm\n",
    "chart = pygal.Bar()\n",
    "chart.title = \"Inflation 2010 - 2019\"\n",
    "chart.x_labels = xVal\n",
    "chart.add('2010-2019', [j for j in yVal])\n",
    "chart.render_to_file(\"infl_balken.svg\")\n",
    "\n",
    "# Erzeuge gestaffelte Diagramme\n",
    "bb = pygal.Bar(x_label_rotation = 60)\n",
    "bb.title = \"Inflation 2010 - 2019\"\n",
    "bb.add('2010-2012', [j for j in yVal[0:3]])\n",
    "bb.add('2013-2015', [j for j in yVal[3:6]])\n",
    "bb.add('2016-2018', [j for j in yVal[6:9]])\n",
    "bb.render_to_file(\"infl_gest.svg\")"
   ]
  },
  {
   "cell_type": "markdown",
   "metadata": {},
   "source": [
    "## Standard Ein- und Ausgabekanäle"
   ]
  },
  {
   "cell_type": "markdown",
   "metadata": {},
   "source": [
    "Das Modul sys kann auf Standard- (sys.stdin) und Fehlerausgabe (sys.stderr) schreiben, \n",
    "von Standardeingabe (sys.stdin) lesen"
   ]
  },
  {
   "cell_type": "code",
   "execution_count": 16,
   "metadata": {},
   "outputs": [
    {
     "name": "stdout",
     "output_type": "stream",
     "text": [
      "Text eingeben:"
     ]
    },
    {
     "name": "stderr",
     "output_type": "stream",
     "text": [
      "Error!\n"
     ]
    }
   ],
   "source": [
    "import sys\n",
    "sys.stdout.write(\"Text eingeben:\") # = print \"...\"\n",
    "line = sys.stdin.readline ()\n",
    "if line == \"\" :\n",
    "    sys.stderr.write(\"Error!\\n\")"
   ]
  },
  {
   "cell_type": "markdown",
   "metadata": {},
   "source": [
    "## Interaktion mit dem Betriebssystem"
   ]
  },
  {
   "cell_type": "markdown",
   "metadata": {},
   "source": [
    "Modul `os` als Schnittstelle zum Betriebssystem, z.B."
   ]
  },
  {
   "cell_type": "code",
   "execution_count": 28,
   "metadata": {},
   "outputs": [
    {
     "data": {
      "text/plain": [
       "True"
      ]
     },
     "execution_count": 28,
     "metadata": {},
     "output_type": "execute_result"
    }
   ],
   "source": [
    "import os\n",
    "os.mkdir('test')        # Legt Verzeichnis path an\n",
    "os.chdir('./test')      # Wechselt ins Verzeichnis path\n",
    "datei = open (\"test.test\", \"w\")\n",
    "os.link('test.test', './alink.test')   # Erzeugt Link src auf dest\n",
    "os.remove(\"test.test\") # Löscht Datei filename\n",
    "os.system(\"ls -l\")      # Führt das Systemkommando cmd aus\n",
    "os.chmod(\"./\", 666)   # Ändert Zugriffsrechte für path\n",
    "os.path.exists(\"/usr/bin\")    # Prüft, ob path existiert"
   ]
  },
  {
   "cell_type": "markdown",
   "metadata": {},
   "source": [
    "## CSV-Dateien einlesen"
   ]
  },
  {
   "cell_type": "code",
   "execution_count": null,
   "metadata": {},
   "outputs": [],
   "source": [
    "import csv\n",
    "#reader = csv.reader((open(\"browser-data.csv\",\"r\")))\n",
    "#for row in reader:\n",
    "#    print(row)\n",
    "    \n",
    "reader = csv.DictReader((open(\"browser-data.csv\",\"r\")))  # import as dictionary\n",
    "for row in reader:\n",
    "    print(row)"
   ]
  },
  {
   "cell_type": "markdown",
   "metadata": {},
   "source": [
    "## JSON-Dateien einlesen"
   ]
  },
  {
   "cell_type": "code",
   "execution_count": 26,
   "metadata": {},
   "outputs": [
    {
     "name": "stdout",
     "output_type": "stream",
     "text": [
      "[{'1': 'a', '2': 3}, 'eine Zeichenkette', 16, [1, 2, 'simsalabim'], ['j', 'a', ' ', 'm', 'e', 'i'], None, True]\n"
     ]
    }
   ],
   "source": [
    "import json\n",
    "\n",
    "demo = ({1: 'a', 2: 3}, \\\n",
    "        \"eine Zeichenkette\",\\\n",
    "        16,\\\n",
    "        [1, 2, \"simsalabim\"],\\\n",
    "        ('j', 'a', ' ', 'm', 'e', 'i'),\\\n",
    "        None,\\\n",
    "        True)\n",
    "g = open(\"bsp.json\", 'w')\n",
    "json.dump(demo, g)\n",
    "g.close()\n",
    "\n",
    "g = open(\"bsp.json\", 'r')\n",
    "o = json.load(g)\n",
    "g.close()\n",
    "print(o)"
   ]
  },
  {
   "cell_type": "code",
   "execution_count": null,
   "metadata": {},
   "outputs": [],
   "source": []
  }
 ],
 "metadata": {
  "kernelspec": {
   "display_name": "Python 3",
   "language": "python",
   "name": "python3"
  },
  "language_info": {
   "codemirror_mode": {
    "name": "ipython",
    "version": 3
   },
   "file_extension": ".py",
   "mimetype": "text/x-python",
   "name": "python",
   "nbconvert_exporter": "python",
   "pygments_lexer": "ipython3",
   "version": "3.8.3"
  }
 },
 "nbformat": 4,
 "nbformat_minor": 4
}
