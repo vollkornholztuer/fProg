{
 "cells": [
  {
   "cell_type": "markdown",
   "metadata": {},
   "source": [
    "# Kapitel 3: Python - Module und Dateien"
   ]
  },
  {
   "cell_type": "markdown",
   "metadata": {},
   "source": [
    "## Module"
   ]
  },
  {
   "cell_type": "markdown",
   "metadata": {},
   "source": [
    "* Fassen Funktionen (und ggf. Klassen) in einer separaten .py-Datei zusammen\n",
    "* Lassen sich importieren (eigene und Bibliothek)"
   ]
  },
  {
   "cell_type": "markdown",
   "metadata": {},
   "source": [
    "## Arten des Imports"
   ]
  },
  {
   "cell_type": "markdown",
   "metadata": {},
   "source": [
    "Möglichkeiten für Import von Modul M (Datei M.py)\n",
    "* `import M`: Alle Namen aus M in eigenem Namensraum verfügbar, muss mit M.foo() qualifiziert werden\n",
    "* `import M as Q`: Modul M wird unter dem Namen Q verfügbar\n",
    "* `from M import *`: Alle Namen aus M lokal verfügbar und ohne Verweis auf M zu benutzen\n",
    "* `from M import x`: Nur die angegebenen Namen x (und ggf. weitere) sind lokal verfügbar"
   ]
  },
  {
   "cell_type": "markdown",
   "metadata": {},
   "source": [
    "## Mehr über Module"
   ]
  },
  {
   "cell_type": "markdown",
   "metadata": {},
   "source": [
    "* Auflistung der Inhalte: `dir(bib)`\n",
    "* Hilfe abfragen, für Module und einzelne Funktionen\n",
    "    * `import(meinebib)`\n",
    "    * `help(meinebib)`\n",
    "    * `help(meinebib.printKonst)`\n",
    "* Bestimmung, ob ein Skript gerade ausgeführt wird oder als Modul genutzt wird:"
   ]
  },
  {
   "cell_type": "code",
   "execution_count": 1,
   "metadata": {},
   "outputs": [
    {
     "name": "stdout",
     "output_type": "stream",
     "text": [
      "Wird ausgeführt\n"
     ]
    }
   ],
   "source": [
    "if __name__ == '__main__':\n",
    "    print (\"Wird ausgeführt\")\n",
    "else:\n",
    "    print (\"als Modul importiert\")"
   ]
  },
  {
   "cell_type": "markdown",
   "metadata": {},
   "source": [
    "Python sucht im Suchpfad und im aktuellen Verzeichnis. Der Suchpfad kann abgefragt und erweitert werden."
   ]
  },
  {
   "cell_type": "code",
   "execution_count": 2,
   "metadata": {},
   "outputs": [
    {
     "name": "stdout",
     "output_type": "stream",
     "text": [
      "['/Users/wieland/Documents/FH/Lehre/WS22-23/Programmieren/Beispiele/Kap03', '/Users/wieland/opt/anaconda3/lib/python39.zip', '/Users/wieland/opt/anaconda3/lib/python3.9', '/Users/wieland/opt/anaconda3/lib/python3.9/lib-dynload', '', '/Users/wieland/opt/anaconda3/lib/python3.9/site-packages', '/Users/wieland/opt/anaconda3/lib/python3.9/site-packages/aeosa', '/Users/wieland/opt/anaconda3/lib/python3.9/site-packages/IPython/extensions', '/Users/wieland/.ipython']\n"
     ]
    }
   ],
   "source": [
    "import sys\n",
    "print(sys.path)\n",
    "sys.path.append(\"folder/to/module\")"
   ]
  },
  {
   "cell_type": "markdown",
   "metadata": {},
   "source": [
    "## Dateien"
   ]
  },
  {
   "cell_type": "markdown",
   "metadata": {},
   "source": [
    "Öffnen mit `open`. Für Binärdateien mit einem \"b\" nach dem Qualifizierer, also bspw. \"rb\" "
   ]
  },
  {
   "cell_type": "code",
   "execution_count": 4,
   "metadata": {},
   "outputs": [],
   "source": [
    "datei = open (\"testfile.txt\", \"r\")      # read"
   ]
  },
  {
   "cell_type": "markdown",
   "metadata": {},
   "source": [
    "Lesen"
   ]
  },
  {
   "cell_type": "code",
   "execution_count": 6,
   "metadata": {},
   "outputs": [
    {
     "data": {
      "text/plain": [
       "[]"
      ]
     },
     "execution_count": 6,
     "metadata": {},
     "output_type": "execute_result"
    }
   ],
   "source": [
    "n = 10\n",
    "datei.read ()     # komplett einlesen\n",
    "datei.read (n)    # n Byte einlesen\n",
    "datei.readline()  # eine Zeile lesen\n",
    "datei.readlines() # Liste von Zeilen"
   ]
  },
  {
   "cell_type": "markdown",
   "metadata": {},
   "source": [
    "Datei schließen"
   ]
  },
  {
   "cell_type": "code",
   "execution_count": 8,
   "metadata": {},
   "outputs": [],
   "source": [
    "datei.close()"
   ]
  },
  {
   "cell_type": "markdown",
   "metadata": {},
   "source": [
    "## Weitere Dateioperationen"
   ]
  },
  {
   "cell_type": "markdown",
   "metadata": {},
   "source": [
    "Schreiben"
   ]
  },
  {
   "cell_type": "code",
   "execution_count": 9,
   "metadata": {},
   "outputs": [],
   "source": [
    "datei = open(\"testfile.txt\", \"w\")\n",
    "datei.write(\"Neuer Text \\n\")\n",
    "datei.writelines([\"1. Zeile\\n\", \"2. Zeile\\n\"])"
   ]
  },
  {
   "cell_type": "markdown",
   "metadata": {},
   "source": [
    "Aktuelle Position"
   ]
  },
  {
   "cell_type": "code",
   "execution_count": 10,
   "metadata": {},
   "outputs": [
    {
     "name": "stdout",
     "output_type": "stream",
     "text": [
      "30\n"
     ]
    }
   ],
   "source": [
    "pos = datei.tell()\n",
    "print(pos)"
   ]
  },
  {
   "cell_type": "markdown",
   "metadata": {},
   "source": [
    "Zu einer bestimmten Position gehen"
   ]
  },
  {
   "cell_type": "code",
   "execution_count": 11,
   "metadata": {},
   "outputs": [
    {
     "name": "stdout",
     "output_type": "stream",
     "text": [
      "0\n"
     ]
    }
   ],
   "source": [
    "datei.seek(0)\n",
    "print(datei.tell())"
   ]
  },
  {
   "cell_type": "markdown",
   "metadata": {},
   "source": [
    "Ausgabepuffer leeren"
   ]
  },
  {
   "cell_type": "code",
   "execution_count": 12,
   "metadata": {},
   "outputs": [],
   "source": [
    "datei.flush()"
   ]
  },
  {
   "cell_type": "markdown",
   "metadata": {},
   "source": [
    "## Durch Dateien iterieren"
   ]
  },
  {
   "cell_type": "markdown",
   "metadata": {},
   "source": [
    "Dateien sind sequentielle Objekte wie Listen und Tupel. Daher kann auch durch sie iteriert werden."
   ]
  },
  {
   "cell_type": "code",
   "execution_count": 13,
   "metadata": {},
   "outputs": [
    {
     "name": "stdout",
     "output_type": "stream",
     "text": [
      "6\n",
      "7\n",
      "8\n"
     ]
    }
   ],
   "source": [
    "datei = open(\"testfile.txt\", \"r\")\n",
    "zahl = 5\n",
    "for _ in datei:\n",
    "    zahl += 1\n",
    "    print(zahl)\n",
    "datei.close()"
   ]
  },
  {
   "cell_type": "markdown",
   "metadata": {},
   "source": [
    "Ganze Lexika können mit `pickle` gespeichert werden"
   ]
  },
  {
   "cell_type": "code",
   "execution_count": 14,
   "metadata": {},
   "outputs": [
    {
     "name": "stdout",
     "output_type": "stream",
     "text": [
      "{1: 'q', 2: [1, 2, 3], 'ww': 'Eine Zeichenkette'}\n"
     ]
    }
   ],
   "source": [
    "import pickle\n",
    "\n",
    "dd = {1: 'q', 2: [1, 2, 3], 'ww': 'Eine Zeichenkette'}\n",
    "datei = open('meinedatei.bin', 'wb')\n",
    "pickle.dump(dd, datei)\n",
    "datei.close()\n",
    "\n",
    "dat = open('meinedatei.bin', 'rb')\n",
    "lex = pickle.load(dat)\n",
    "print(lex)\n",
    "dat.close()"
   ]
  },
  {
   "cell_type": "markdown",
   "metadata": {},
   "source": [
    "## Erstellung von Diagrammdateien"
   ]
  },
  {
   "cell_type": "code",
   "execution_count": 18,
   "metadata": {},
   "outputs": [
    {
     "name": "stdout",
     "output_type": "stream",
     "text": [
      "Werte: [(2010, 1.1), (2011, 2.1), (2012, 2.0), (2013, 1.4), (2014, 1.0), (2015, 0.5), (2016, 0.5), (2017, 1.5), (2018, 1.8), (2019, 1.4), (2020, 0.5), (2021, 3.1), (2022, 8.0)]\n",
      "\n",
      "\n"
     ]
    }
   ],
   "source": [
    "import pygal\n",
    "\n",
    "xVal = [j for j in range(2010,2023)]\n",
    "yVal = [1.1, 2.1, 2.0, 1.4, 1.0, 0.5, 0.5, 1.5, 1.8, 1.4, 0.5, 3.1, 8.0]\n",
    "werte = zip(xVal, yVal)\n",
    "print(\"Werte:\", list(werte))\n",
    "print('\\n')\n",
    "\n",
    "# Erzeuge Liniendiagramm\n",
    "linie = pygal.Line()\n",
    "linie.title = \"Inflation 2010 - 2022\"\n",
    "linie.x_labels = xVal\n",
    "linie.add('2010-2019', yVal)\n",
    "linie.render_to_file('infl_linie.svg')\n",
    "\n",
    "# Erzeuge Balkendiagramm\n",
    "chart = pygal.Bar()\n",
    "chart.title = \"Inflation 2010 - 2022\"\n",
    "chart.x_labels = xVal\n",
    "chart.add('2010-2019', [j for j in yVal])\n",
    "chart.render_to_file(\"infl_balken.svg\")\n",
    "\n",
    "# Erzeuge gestaffelte Diagramme\n",
    "bb = pygal.Bar(x_label_rotation = 60)\n",
    "bb.title = \"Inflation 2010 - 2022\"\n",
    "bb.add('2010-2013', [j for j in yVal[0:3]])\n",
    "bb.add('2014-2018', [j for j in yVal[4:7]])\n",
    "bb.add('2019-2022', [j for j in yVal[8:12]])\n",
    "bb.render_to_file(\"infl_gest.svg\")"
   ]
  },
  {
   "cell_type": "markdown",
   "metadata": {},
   "source": [
    "## Standard Ein- und Ausgabekanäle"
   ]
  },
  {
   "cell_type": "markdown",
   "metadata": {},
   "source": [
    "Das Modul sys kann auf Standard- (sys.stdin) und Fehlerausgabe (sys.stderr) schreiben, \n",
    "von Standardeingabe (sys.stdin) lesen"
   ]
  },
  {
   "cell_type": "code",
   "execution_count": 19,
   "metadata": {},
   "outputs": [
    {
     "name": "stdout",
     "output_type": "stream",
     "text": [
      "Text eingeben:"
     ]
    },
    {
     "name": "stderr",
     "output_type": "stream",
     "text": [
      "Error!\n"
     ]
    }
   ],
   "source": [
    "import sys\n",
    "sys.stdout.write(\"Text eingeben:\") # = print \"...\"\n",
    "line = sys.stdin.readline ()\n",
    "if line == \"\" :\n",
    "    sys.stderr.write(\"Error!\\n\")"
   ]
  },
  {
   "cell_type": "markdown",
   "metadata": {},
   "source": [
    "## Interaktion mit dem Betriebssystem"
   ]
  },
  {
   "cell_type": "markdown",
   "metadata": {},
   "source": [
    "Modul `os` als Schnittstelle zum Betriebssystem, z.B."
   ]
  },
  {
   "cell_type": "code",
   "execution_count": 21,
   "metadata": {},
   "outputs": [
    {
     "name": "stdout",
     "output_type": "stream",
     "text": [
      "total 0\n",
      "-rw-r--r--  1 wieland  staff  0 26 Okt 09:35 alink.test\n"
     ]
    },
    {
     "data": {
      "text/plain": [
       "True"
      ]
     },
     "execution_count": 21,
     "metadata": {},
     "output_type": "execute_result"
    }
   ],
   "source": [
    "import os\n",
    "os.mkdir('test')        # Legt Verzeichnis path an\n",
    "os.chdir('./test')      # Wechselt ins Verzeichnis path\n",
    "datei = open (\"test.test\", \"w\")\n",
    "os.link('test.test', './alink.test')   # Erzeugt Link src auf dest\n",
    "os.remove(\"test.test\") # Löscht Datei filename\n",
    "os.system(\"ls -l\")      # Führt das Systemkommando cmd aus\n",
    "os.chmod(\"./\", 666)   # Ändert Zugriffsrechte für path\n",
    "os.path.exists(\"/usr/bin\")    # Prüft, ob path existiert"
   ]
  },
  {
   "cell_type": "markdown",
   "metadata": {},
   "source": [
    "## CSV-Dateien einlesen"
   ]
  },
  {
   "cell_type": "code",
   "execution_count": 28,
   "metadata": {},
   "outputs": [
    {
     "ename": "PermissionError",
     "evalue": "[Errno 13] Permission denied: 'browser-data.csv'",
     "output_type": "error",
     "traceback": [
      "\u001b[0;31m---------------------------------------------------------------------------\u001b[0m",
      "\u001b[0;31mPermissionError\u001b[0m                           Traceback (most recent call last)",
      "\u001b[0;32m/var/folders/r0/d4g582x14_1fj7cs4qytw7380000gn/T/ipykernel_84912/1709432451.py\u001b[0m in \u001b[0;36m<module>\u001b[0;34m\u001b[0m\n\u001b[1;32m      4\u001b[0m \u001b[0;31m#    print(row)\u001b[0m\u001b[0;34m\u001b[0m\u001b[0;34m\u001b[0m\u001b[0m\n\u001b[1;32m      5\u001b[0m \u001b[0;34m\u001b[0m\u001b[0m\n\u001b[0;32m----> 6\u001b[0;31m \u001b[0mreader\u001b[0m \u001b[0;34m=\u001b[0m \u001b[0mcsv\u001b[0m\u001b[0;34m.\u001b[0m\u001b[0mDictReader\u001b[0m\u001b[0;34m(\u001b[0m\u001b[0;34m(\u001b[0m\u001b[0mopen\u001b[0m\u001b[0;34m(\u001b[0m\u001b[0;34m\"browser-data.csv\"\u001b[0m\u001b[0;34m,\u001b[0m\u001b[0;34m\"r\"\u001b[0m\u001b[0;34m)\u001b[0m\u001b[0;34m)\u001b[0m\u001b[0;34m)\u001b[0m  \u001b[0;31m# import as dictionary\u001b[0m\u001b[0;34m\u001b[0m\u001b[0;34m\u001b[0m\u001b[0m\n\u001b[0m\u001b[1;32m      7\u001b[0m \u001b[0;32mfor\u001b[0m \u001b[0mrow\u001b[0m \u001b[0;32min\u001b[0m \u001b[0mreader\u001b[0m\u001b[0;34m:\u001b[0m\u001b[0;34m\u001b[0m\u001b[0;34m\u001b[0m\u001b[0m\n\u001b[1;32m      8\u001b[0m     \u001b[0mprint\u001b[0m\u001b[0;34m(\u001b[0m\u001b[0mrow\u001b[0m\u001b[0;34m)\u001b[0m\u001b[0;34m\u001b[0m\u001b[0;34m\u001b[0m\u001b[0m\n",
      "\u001b[0;31mPermissionError\u001b[0m: [Errno 13] Permission denied: 'browser-data.csv'"
     ]
    }
   ],
   "source": [
    "import csv\n",
    "#reader = csv.reader((open(\"browser-data.csv\",\"r\")))\n",
    "#for row in reader:\n",
    "#    print(row)\n",
    "    \n",
    "reader = csv.DictReader((open(\"browser-data.csv\",\"r\")))  # import as dictionary\n",
    "for row in reader:\n",
    "    print(row)"
   ]
  },
  {
   "cell_type": "markdown",
   "metadata": {},
   "source": [
    "## JSON-Dateien einlesen"
   ]
  },
  {
   "cell_type": "code",
   "execution_count": 30,
   "metadata": {},
   "outputs": [
    {
     "ename": "PermissionError",
     "evalue": "[Errno 13] Permission denied: 'bsp.json'",
     "output_type": "error",
     "traceback": [
      "\u001b[0;31m---------------------------------------------------------------------------\u001b[0m",
      "\u001b[0;31mPermissionError\u001b[0m                           Traceback (most recent call last)",
      "\u001b[0;32m/var/folders/r0/d4g582x14_1fj7cs4qytw7380000gn/T/ipykernel_84912/3878864576.py\u001b[0m in \u001b[0;36m<module>\u001b[0;34m\u001b[0m\n\u001b[1;32m      8\u001b[0m         \u001b[0;32mNone\u001b[0m\u001b[0;34m,\u001b[0m\u001b[0;31m\\\u001b[0m\u001b[0;34m\u001b[0m\u001b[0;34m\u001b[0m\u001b[0m\n\u001b[1;32m      9\u001b[0m         True)\n\u001b[0;32m---> 10\u001b[0;31m \u001b[0mg\u001b[0m \u001b[0;34m=\u001b[0m \u001b[0mopen\u001b[0m\u001b[0;34m(\u001b[0m\u001b[0;34m\"bsp.json\"\u001b[0m\u001b[0;34m,\u001b[0m \u001b[0;34m'w'\u001b[0m\u001b[0;34m)\u001b[0m\u001b[0;34m\u001b[0m\u001b[0;34m\u001b[0m\u001b[0m\n\u001b[0m\u001b[1;32m     11\u001b[0m \u001b[0mjson\u001b[0m\u001b[0;34m.\u001b[0m\u001b[0mdumps\u001b[0m\u001b[0;34m(\u001b[0m\u001b[0mdemo\u001b[0m\u001b[0;34m,\u001b[0m \u001b[0mg\u001b[0m\u001b[0;34m)\u001b[0m\u001b[0;34m\u001b[0m\u001b[0;34m\u001b[0m\u001b[0m\n\u001b[1;32m     12\u001b[0m \u001b[0mg\u001b[0m\u001b[0;34m.\u001b[0m\u001b[0mclose\u001b[0m\u001b[0;34m(\u001b[0m\u001b[0;34m)\u001b[0m\u001b[0;34m\u001b[0m\u001b[0;34m\u001b[0m\u001b[0m\n",
      "\u001b[0;31mPermissionError\u001b[0m: [Errno 13] Permission denied: 'bsp.json'"
     ]
    }
   ],
   "source": [
    "import json\n",
    "\n",
    "demo = ({1: 'a', 2: 3}, \\\n",
    "        \"eine Zeichenkette\",\\\n",
    "        16,\\\n",
    "        [1, 2, \"simsalabim\"],\\\n",
    "        ('j', 'a', ' ', 'm', 'e', 'i'),\\\n",
    "        None,\\\n",
    "        True)\n",
    "g = open(\"bsp.json\", 'w')\n",
    "json.dumps(demo, g)\n",
    "g.close()\n",
    "\n",
    "g = open(\"bsp.json\", 'r')\n",
    "o = json.load(g)\n",
    "g.close()\n",
    "print(o)"
   ]
  },
  {
   "cell_type": "code",
   "execution_count": null,
   "metadata": {},
   "outputs": [],
   "source": []
  },
  {
   "cell_type": "code",
   "execution_count": null,
   "metadata": {},
   "outputs": [],
   "source": []
  },
  {
   "cell_type": "code",
   "execution_count": null,
   "metadata": {},
   "outputs": [],
   "source": []
  },
  {
   "cell_type": "code",
   "execution_count": null,
   "metadata": {},
   "outputs": [],
   "source": []
  }
 ],
 "metadata": {
  "kernelspec": {
   "display_name": "Python 3 (ipykernel)",
   "language": "python",
   "name": "python3"
  },
  "language_info": {
   "codemirror_mode": {
    "name": "ipython",
    "version": 3
   },
   "file_extension": ".py",
   "mimetype": "text/x-python",
   "name": "python",
   "nbconvert_exporter": "python",
   "pygments_lexer": "ipython3",
   "version": "3.9.13"
  }
 },
 "nbformat": 4,
 "nbformat_minor": 4
}
