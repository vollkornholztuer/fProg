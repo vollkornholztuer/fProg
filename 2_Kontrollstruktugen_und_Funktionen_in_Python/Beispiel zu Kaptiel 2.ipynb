{
 "cells": [
  {
   "cell_type": "markdown",
   "id": "342be5fc",
   "metadata": {},
   "source": [
    "# Beispiele zu Kapitel 2: Kontrollstrukturen und Funktionen\n",
    "## Programmstrukturierung"
   ]
  },
  {
   "cell_type": "code",
   "execution_count": null,
   "id": "4ba67ec3",
   "metadata": {},
   "outputs": [],
   "source": [
    "x = 2; y = 7\n",
    "if x < y:\n",
    "    print (\"x ist kleiner\")\n",
    "    x = y"
   ]
  },
  {
   "cell_type": "code",
   "execution_count": null,
   "id": "dedd663e",
   "metadata": {},
   "outputs": [],
   "source": [
    "if y % 2 == 0:\n",
    "    print (\"Zahl gerade\")\n",
    "else:\n",
    "    print (\"Zahl ungerade\")"
   ]
  },
  {
   "cell_type": "markdown",
   "id": "afac2788",
   "metadata": {},
   "source": [
    "## Schleifen"
   ]
  },
  {
   "cell_type": "code",
   "execution_count": null,
   "id": "3d034ba8",
   "metadata": {},
   "outputs": [],
   "source": [
    "for i in [1, 2, 3]:\n",
    "    print(\"Zahl: \", i)"
   ]
  },
  {
   "cell_type": "code",
   "execution_count": null,
   "id": "88b23779",
   "metadata": {},
   "outputs": [],
   "source": [
    "for c in \"Hallo\":\n",
    "    print(\"Buchstabe: \", c)"
   ]
  },
  {
   "cell_type": "code",
   "execution_count": null,
   "id": "749a6b5c",
   "metadata": {},
   "outputs": [],
   "source": [
    "for e in (1, 'x', [7, 8, 9], \"Blumentopf\"):\n",
    "    print(\"Element: \", e)"
   ]
  },
  {
   "cell_type": "markdown",
   "id": "94705523",
   "metadata": {},
   "source": [
    "## List Comprehension"
   ]
  },
  {
   "cell_type": "code",
   "execution_count": null,
   "id": "f5f8bf63",
   "metadata": {},
   "outputs": [],
   "source": [
    "b = [i**2 for i in range(0,10) if i % 2 == 0]\n",
    "b"
   ]
  },
  {
   "cell_type": "code",
   "execution_count": null,
   "id": "242b1e78",
   "metadata": {},
   "outputs": [],
   "source": [
    "c = [(i,j) for i in range(1, 5) if i % 2 == 0 for j in range(1, 5) if j %2 != 0]\n",
    "c"
   ]
  },
  {
   "cell_type": "markdown",
   "id": "d4d1d363",
   "metadata": {},
   "source": [
    "Liste aller Primzahlen bis 100"
   ]
  },
  {
   "cell_type": "code",
   "execution_count": null,
   "id": "543e4a44",
   "metadata": {},
   "outputs": [],
   "source": [
    "noprimes = [j for i in range(2, 8) for j in range(i*2, 100, i)]\n",
    "primes = [x for x in range(2, 100) if x not in noprimes]\n",
    "print(primes)"
   ]
  },
  {
   "cell_type": "code",
   "execution_count": null,
   "id": "a66d61ab",
   "metadata": {},
   "outputs": [],
   "source": [
    "primes = [i for i in range(2, 100) if all(i%j != 0 for j in range(2, int(i ** 0.5) + 1))]\n",
    "print(primes)"
   ]
  },
  {
   "cell_type": "markdown",
   "id": "cd1087a4",
   "metadata": {},
   "source": [
    "Definieren Sie eine Liste von Tripel (3er Tupeln), die alle Möglichkeiten darstellen, wie man vier Kugeln mit 1, 2, 3 und 4 beschriftet aus einer Urne (ohne Zurücklegen!) ziehen kann."
   ]
  },
  {
   "cell_type": "code",
   "execution_count": null,
   "id": "59f8d3e5",
   "metadata": {},
   "outputs": [],
   "source": [
    "l = [(i,j,k) for i in range(1,5) for j in range(1,5) if j != i for k in range(1,5) if (k != i and k != j)]\n",
    "print(l)"
   ]
  },
  {
   "cell_type": "markdown",
   "id": "5f0dfe80",
   "metadata": {},
   "source": [
    "## Funktionen"
   ]
  },
  {
   "cell_type": "code",
   "execution_count": null,
   "id": "ddfc5bf8",
   "metadata": {},
   "outputs": [],
   "source": [
    "def hello():\n",
    "    print (\"Hello World!\")\n",
    "hello()"
   ]
  },
  {
   "cell_type": "code",
   "execution_count": null,
   "id": "2907e43a",
   "metadata": {},
   "outputs": [],
   "source": [
    "a = \"abra\"\n",
    "def func():\n",
    "    a = 42\n",
    "func()\n",
    "a"
   ]
  },
  {
   "cell_type": "markdown",
   "id": "fff6c7fe",
   "metadata": {},
   "source": [
    "## Namensraum (Scope)"
   ]
  },
  {
   "cell_type": "code",
   "execution_count": null,
   "id": "8a1d9e6d",
   "metadata": {},
   "outputs": [],
   "source": [
    "def modify(y):\n",
    "    y = [j*j for j in y]\n",
    "li = [1,2,3]\n",
    "modify(li)\n",
    "li"
   ]
  },
  {
   "cell_type": "code",
   "execution_count": null,
   "id": "f387510d",
   "metadata": {},
   "outputs": [],
   "source": [
    "def mod2(y):\n",
    "    for i, x in enumerate(y):\n",
    "        y[i] = x*x\n",
    "mod2(li)\n",
    "li"
   ]
  },
  {
   "cell_type": "code",
   "execution_count": null,
   "id": "097c758e",
   "metadata": {},
   "outputs": [],
   "source": [
    "x = 10\n",
    "def func():\n",
    "    print(x)\n",
    "    x += 1\n",
    "\n",
    "func()\n",
    "def func2():\n",
    "    global x\n",
    "    print(x)\n",
    "    x += 1\n",
    "func2()\n",
    "func2()"
   ]
  },
  {
   "cell_type": "markdown",
   "id": "127b9bc1",
   "metadata": {},
   "source": [
    "## Parameterübergabe"
   ]
  },
  {
   "cell_type": "code",
   "execution_count": null,
   "id": "4e3b564e",
   "metadata": {},
   "outputs": [],
   "source": [
    "def s(x, *tup):\n",
    "    s = x\n",
    "    for i in tup: s += i\n",
    "    return s\n",
    "print (s(3, 1,2,5))\n",
    "print(s(3))\n",
    "print(s(1,1,1,1,1,1,1,1))"
   ]
  },
  {
   "cell_type": "markdown",
   "id": "e4e9acc1",
   "metadata": {},
   "source": [
    "## Anonyme Funktionen (Lambdas)"
   ]
  },
  {
   "cell_type": "code",
   "execution_count": null,
   "id": "aaf1702b",
   "metadata": {},
   "outputs": [],
   "source": [
    "li = [lambda x : x+n for n in range(10)]\n",
    "print([j(3) for j in li])"
   ]
  },
  {
   "cell_type": "markdown",
   "id": "f1a14457",
   "metadata": {},
   "source": [
    "besser:"
   ]
  },
  {
   "cell_type": "code",
   "execution_count": null,
   "id": "d2ea3012",
   "metadata": {},
   "outputs": [],
   "source": [
    "lo = [(lambda k : lambda x : x+k)(n) for n in range(10)]\n",
    "print([j(3) for j in lo])"
   ]
  },
  {
   "cell_type": "markdown",
   "id": "c6d87ed0",
   "metadata": {},
   "source": [
    "## map und filter"
   ]
  },
  {
   "cell_type": "code",
   "execution_count": null,
   "id": "4f36e871",
   "metadata": {},
   "outputs": [],
   "source": [
    "l = range(10)\n",
    "m = list(map(lambda x: x*x+1, l))\n",
    "print(m)"
   ]
  },
  {
   "cell_type": "markdown",
   "id": "ef611aeb",
   "metadata": {},
   "source": [
    "Schreiben Sie einen lambda-Ausdruck, der eine zweistellige Funktion (mit zwei Parametern x und y) darstellt, deren Rückgabewert eine Liste aller geraden Zahlen zwischen x und y ist. Damit soll folgende Ausgabe erzeugt werden:<br>\n",
    "`>>> z = list(map(lambda                 , [1, 3], [7, 9]))`<br>\n",
    "`>>> print(z)`<br>\n",
    "`[[2, 4, 6], [4, 6, 8]]`"
   ]
  },
  {
   "cell_type": "code",
   "execution_count": null,
   "id": "fa432c94",
   "metadata": {},
   "outputs": [],
   "source": [
    "list(map(lambda x,y: [n for n in range(x, y+1) if n%2 == 0], [1,3], [7,9]))"
   ]
  },
  {
   "cell_type": "code",
   "execution_count": null,
   "id": "60449386",
   "metadata": {},
   "outputs": [],
   "source": [
    "m = list(filter(lambda x: x%2 == 0, l))\n",
    "print(m)"
   ]
  },
  {
   "cell_type": "code",
   "execution_count": null,
   "id": "669a1171",
   "metadata": {},
   "outputs": [],
   "source": []
  }
 ],
 "metadata": {
  "kernelspec": {
   "display_name": "Python 3.10.7 64-bit",
   "language": "python",
   "name": "python3"
  },
  "language_info": {
   "codemirror_mode": {
    "name": "ipython",
    "version": 3
   },
   "file_extension": ".py",
   "mimetype": "text/x-python",
   "name": "python",
   "nbconvert_exporter": "python",
   "pygments_lexer": "ipython3",
   "version": "3.10.7"
  },
  "vscode": {
   "interpreter": {
    "hash": "369f2c481f4da34e4445cda3fffd2e751bd1c4d706f27375911949ba6bb62e1c"
   }
  }
 },
 "nbformat": 4,
 "nbformat_minor": 5
}
